{
 "cells": [
  {
   "cell_type": "code",
   "execution_count": 7,
   "metadata": {},
   "outputs": [
    {
     "name": "stdout",
     "output_type": "stream",
     "text": [
      "      A    B    C    D\n",
      "0   1.0  2.0  0.0  4.0\n",
      "1  12.2  2.3  4.3  5.4\n",
      "2   NaN  4.2  NaN  3.4\n"
     ]
    }
   ],
   "source": [
    "import pandas as pd\n",
    "import numpy as np\n",
    "\n",
    "df = pd.DataFrame([\n",
    "  [1.0,2.0,.0,4.0],\n",
    "  [12.2,2.3,4.3,5.4],\n",
    "  [np.nan, 4.2, np.nan, 3.4]\n",
    "])\n",
    "df.columns = ['A','B','C','D']\n",
    "print(df)"
   ]
  },
  {
   "cell_type": "code",
   "execution_count": 8,
   "metadata": {},
   "outputs": [
    {
     "name": "stdout",
     "output_type": "stream",
     "text": [
      "A    1\n",
      "B    0\n",
      "C    1\n",
      "D    0\n",
      "dtype: int64\n"
     ]
    }
   ],
   "source": [
    "print(df.isnull().sum())"
   ]
  },
  {
   "cell_type": "code",
   "execution_count": 24,
   "metadata": {},
   "outputs": [
    {
     "name": "stdout",
     "output_type": "stream",
     "text": [
      "     B    D\n",
      "0  2.0  4.0\n",
      "1  2.3  5.4\n",
      "2  4.2  3.4\n",
      "      A    B    C    D\n",
      "0   1.0  2.0  3.0  4.0\n",
      "1  12.2  2.3  4.3  5.4\n",
      "2   NaN  4.2  NaN  3.4\n",
      "      A    B    C    D\n",
      "0   1.0  2.0  3.0  4.0\n",
      "1  12.2  2.3  4.3  5.4\n"
     ]
    }
   ],
   "source": [
    "import pandas as pd\n",
    "import numpy as np\n",
    "\n",
    "df = pd.DataFrame([\n",
    "  [1.0,2.0,3.0,4.0],\n",
    "  [12.2,2.3,4.3,5.4],\n",
    "  [np.nan, 4.2, np.nan, 3.4]\n",
    "])\n",
    "df.columns = ['A','B','C','D']\n",
    "\n",
    "df_1 = df.dropna(axis=1)\n",
    "print(df_1)\n",
    "\n",
    "df_3 = df.dropna(how='all')\n",
    "print(df_3)\n",
    "\n",
    "df_drop = df.dropna(subset=['C','A'])\n",
    "print(df_drop)\n"
   ]
  },
  {
   "cell_type": "code",
   "execution_count": 25,
   "metadata": {},
   "outputs": [
    {
     "name": "stdout",
     "output_type": "stream",
     "text": [
      "[[ 1.    2.    3.    4.  ]\n",
      " [12.2   2.3   4.3   5.4 ]\n",
      " [ 6.6   4.2   3.65  3.4 ]]\n"
     ]
    }
   ],
   "source": [
    "import pandas as pd\n",
    "import numpy as np\n",
    "\n",
    "from sklearn.impute import SimpleImputer\n",
    "imputer = SimpleImputer(missing_values=np.nan, strategy='median')\n",
    "imuted_data = imputer.fit_transform(df.values)\n",
    "print(imuted_data)"
   ]
  },
  {
   "cell_type": "code",
   "execution_count": null,
   "metadata": {},
   "outputs": [],
   "source": []
  }
 ],
 "metadata": {
  "kernelspec": {
   "display_name": "Python 3",
   "language": "python",
   "name": "python3"
  },
  "language_info": {
   "codemirror_mode": {
    "name": "ipython",
    "version": 3
   },
   "file_extension": ".py",
   "mimetype": "text/x-python",
   "name": "python",
   "nbconvert_exporter": "python",
   "pygments_lexer": "ipython3",
   "version": "3.11.7"
  }
 },
 "nbformat": 4,
 "nbformat_minor": 2
}
