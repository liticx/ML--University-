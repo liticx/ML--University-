{
 "cells": [
  {
   "cell_type": "code",
   "execution_count": 10,
   "metadata": {},
   "outputs": [
    {
     "name": "stdout",
     "output_type": "stream",
     "text": [
      "(150, 6)\n"
     ]
    },
    {
     "data": {
      "text/plain": [
       "Id               0\n",
       "SepalLengthCm    0\n",
       "SepalWidthCm     0\n",
       "PetalLengthCm    0\n",
       "PetalWidthCm     0\n",
       "Species          0\n",
       "dtype: int64"
      ]
     },
     "execution_count": 10,
     "metadata": {},
     "output_type": "execute_result"
    }
   ],
   "source": [
    "import pandas as pd\n",
    "import numpy as np\n",
    "\n",
    "import seaborn as sns\n",
    "import matplotlib.pyplot as plt\n",
    "\n",
    "\n",
    "df = pd.read_csv('D:\\Projects\\ML (University)\\lab5_1\\Iris.csv')\n",
    "\n",
    "\n",
    "#print(df.head(10))\n",
    "print(df.shape)\n",
    "df.isna().sum()"
   ]
  },
  {
   "cell_type": "code",
   "execution_count": 27,
   "metadata": {},
   "outputs": [
    {
     "name": "stdout",
     "output_type": "stream",
     "text": [
      "   SepalLengthCm  SepalWidthCm  PetalLengthCm  PetalWidthCm\n",
      "0            5.1           3.5            1.4           0.2\n",
      "1            4.9           3.0            1.4           0.2\n",
      "2            4.7           3.2            1.3           0.2\n",
      "3            4.6           3.1            1.5           0.2\n",
      "4            5.0           3.6            1.4           0.2\n",
      "0    Iris-setosa\n",
      "1    Iris-setosa\n",
      "2    Iris-setosa\n",
      "3    Iris-setosa\n",
      "4    Iris-setosa\n",
      "Name: Species, dtype: object\n"
     ]
    }
   ],
   "source": [
    "# Load the data, make sure to set the separator correctly.\n",
    "df = pd.read_csv('D:\\Projects\\ML (University)\\lab5_1\\Iris.csv')\n",
    "\n",
    "# Drop the 'Id' column right after loading the data.\n",
    "df = df.drop(columns=['Id'])\n",
    "\n",
    "# Now, you can define your data and target.\n",
    "data = df.iloc[:,:-1]  # All columns except the last one.\n",
    "target = df.iloc[:,-1]  # Just the last column.\n",
    "\n",
    "# Now if you print data and target, you should get the actual DataFrame and Series you expect.\n",
    "print(data.head())\n",
    "print(target.head())"
   ]
  },
  {
   "cell_type": "code",
   "execution_count": 61,
   "metadata": {},
   "outputs": [
    {
     "name": "stdout",
     "output_type": "stream",
     "text": [
      "[[15  0  0]\n",
      " [ 0 11  0]\n",
      " [ 0  0 12]]\n",
      "             Actual        Predicted\n",
      "0   Iris-versicolor  Iris-versicolor\n",
      "1       Iris-setosa      Iris-setosa\n",
      "2    Iris-virginica   Iris-virginica\n",
      "3   Iris-versicolor  Iris-versicolor\n",
      "4   Iris-versicolor  Iris-versicolor\n",
      "5       Iris-setosa      Iris-setosa\n",
      "6   Iris-versicolor  Iris-versicolor\n",
      "7    Iris-virginica   Iris-virginica\n",
      "8   Iris-versicolor  Iris-versicolor\n",
      "9   Iris-versicolor  Iris-versicolor\n",
      "10   Iris-virginica   Iris-virginica\n",
      "11      Iris-setosa      Iris-setosa\n",
      "12      Iris-setosa      Iris-setosa\n",
      "13      Iris-setosa      Iris-setosa\n",
      "14      Iris-setosa      Iris-setosa\n",
      "15  Iris-versicolor  Iris-versicolor\n",
      "16   Iris-virginica   Iris-virginica\n",
      "17  Iris-versicolor  Iris-versicolor\n",
      "18  Iris-versicolor  Iris-versicolor\n",
      "19   Iris-virginica   Iris-virginica\n",
      "20      Iris-setosa      Iris-setosa\n",
      "21   Iris-virginica   Iris-virginica\n",
      "22      Iris-setosa      Iris-setosa\n",
      "23   Iris-virginica   Iris-virginica\n",
      "24   Iris-virginica   Iris-virginica\n",
      "25   Iris-virginica   Iris-virginica\n",
      "26   Iris-virginica   Iris-virginica\n",
      "27   Iris-virginica   Iris-virginica\n",
      "28      Iris-setosa      Iris-setosa\n",
      "29      Iris-setosa      Iris-setosa\n",
      "30      Iris-setosa      Iris-setosa\n",
      "31      Iris-setosa      Iris-setosa\n",
      "32  Iris-versicolor  Iris-versicolor\n",
      "33      Iris-setosa      Iris-setosa\n",
      "34      Iris-setosa      Iris-setosa\n",
      "35   Iris-virginica   Iris-virginica\n",
      "36  Iris-versicolor  Iris-versicolor\n",
      "37      Iris-setosa      Iris-setosa\n",
      "Accuracy: 1.0\n"
     ]
    }
   ],
   "source": [
    "import pandas as pd\n",
    "from sklearn.model_selection import train_test_split\n",
    "from sklearn.linear_model import LogisticRegression\n",
    "from sklearn.metrics import accuracy_score\n",
    "from sklearn.metrics import confusion_matrix\n",
    "from sklearn.metrics import precision_score\n",
    "\n",
    "\n",
    "df = pd.read_csv('D:\\Projects\\ML (University)\\lab5_1\\Iris.csv', sep=',')\n",
    "\n",
    "\n",
    "df = df.drop(columns=['Id'])\n",
    "\n",
    "\n",
    "X = df.iloc[:,:-1]\n",
    "Y = df.iloc[:,-1]\n",
    "\n",
    "\n",
    "X_train, X_test, Y_train, Y_test = train_test_split(X, Y, test_size=0.25, random_state=42)\n",
    "\n",
    "\n",
    "log = LogisticRegression()\n",
    "\n",
    "\n",
    "log.fit(X_train, Y_train)\n",
    "\n",
    "\n",
    "predictions = log.predict(X_test)\n",
    "\n",
    "cnf = confusion_matrix(predictions, Y_test)\n",
    "print(cnf)\n",
    "\n",
    "\n",
    "comparison_df = pd.DataFrame(list(zip(Y_test, predictions)), columns=['Actual', 'Predicted'])\n",
    "print(comparison_df)\n",
    "\n",
    "accuracy = accuracy_score(Y_test, predictions)\n",
    "print(f\"Accuracy: {accuracy}\")\n",
    "\n",
    "\n",
    "\n",
    "\n"
   ]
  },
  {
   "cell_type": "code",
   "execution_count": null,
   "metadata": {},
   "outputs": [],
   "source": []
  }
 ],
 "metadata": {
  "kernelspec": {
   "display_name": "Python 3",
   "language": "python",
   "name": "python3"
  },
  "language_info": {
   "codemirror_mode": {
    "name": "ipython",
    "version": 3
   },
   "file_extension": ".py",
   "mimetype": "text/x-python",
   "name": "python",
   "nbconvert_exporter": "python",
   "pygments_lexer": "ipython3",
   "version": "3.11.8"
  }
 },
 "nbformat": 4,
 "nbformat_minor": 2
}
